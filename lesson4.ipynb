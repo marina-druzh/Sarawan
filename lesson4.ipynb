{
 "cells": [
  {
   "cell_type": "code",
   "execution_count": 2,
   "metadata": {},
   "outputs": [],
   "source": [
    "%matplotlib inline\n",
    "import numpy as np\n",
    "import matplotlib.pyplot as plt"
   ]
  },
  {
   "cell_type": "code",
   "execution_count": 3,
   "metadata": {},
   "outputs": [
    {
     "name": "stdout",
     "output_type": "stream",
     "text": [
      "0\n",
      "Игла пересекает линию\n"
     ]
    },
    {
     "data": {
      "image/png": "[encoded data removed]",
      "text/plain": [
       "<Figure size 432x288 with 1 Axes>"
      ]
     },
     "metadata": {
      "needs_background": "light"
     },
     "output_type": "display_data"
    }
   ],
   "source": [
    "a = 4\n",
    "b = (2, 1)\n",
    "alfa = np.pi/3\n",
    "x = np.linspace(0, b[0]+b[1]+10, 100)\n",
    "t = b[1] // a\n",
    "print(t)\n",
    "l = 50\n",
    "x_l = (b[0], l*np.cos(alfa)+b[0])\n",
    "y_l = (b[1], l*np.sin(alfa)+b[1])\n",
    "if b[1]+l*np.sin(alfa)>a*(t+1):\n",
    "    print('Игла пересекает линию')\n",
    "else:\n",
    "    print('Игла не пересекает линию')\n",
    "y = np.arange(a*(t), a*(t+2), a)\n",
    "[plt.plot(x, np.linspace(i, i, 100)) for i in y]\n",
    "plt.plot(x_l, y_l)\n",
    "plt.show()\n",
    "    "
   ]
  },
  {
   "cell_type": "code",
   "execution_count": null,
   "metadata": {},
   "outputs": [],
   "source": []
  }
 ],
 "metadata": {
  "kernelspec": {
   "display_name": "Python 3",
   "language": "python",
   "name": "python3"
  },
  "language_info": {
   "codemirror_mode": {
    "name": "ipython",
    "version": 3
   },
   "file_extension": ".py",
   "mimetype": "text/x-python",
   "name": "python",
   "nbconvert_exporter": "python",
   "pygments_lexer": "ipython3",
   "version": "3.8.5"
  }
 },
 "nbformat": 4,
 "nbformat_minor": 4
}
